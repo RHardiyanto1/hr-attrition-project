{
 "cells": [
  {
   "cell_type": "code",
   "execution_count": 16,
   "id": "e828c19b",
   "metadata": {},
   "outputs": [],
   "source": [
    "import pandas as pd\n",
    "import matplotlib.pyplot as plt\n",
    "\n",
    "import xgboost as xgb\n",
    "\n",
    "from sklearn.model_selection import train_test_split\n",
    "from sklearn.metrics import classification_report, roc_auc_score, precision_recall_curve, auc, average_precision_score"
   ]
  },
  {
   "cell_type": "code",
   "execution_count": 2,
   "id": "a7c59064",
   "metadata": {},
   "outputs": [],
   "source": [
    "# Import model data\n",
    "filepath = 'filepath/Model_Data_HR-Employee-Attrition.csv'\n",
    "model_att_df = pd.read_csv(filepath)"
   ]
  },
  {
   "cell_type": "code",
   "execution_count": 3,
   "id": "5cf67881",
   "metadata": {},
   "outputs": [
    {
     "name": "stdout",
     "output_type": "stream",
     "text": [
      "<class 'pandas.core.frame.DataFrame'>\n",
      "RangeIndex: 1470 entries, 0 to 1469\n",
      "Data columns (total 58 columns):\n",
      " #   Column                             Non-Null Count  Dtype\n",
      "---  ------                             --------------  -----\n",
      " 0   Age                                1470 non-null   int64\n",
      " 1   DailyRate                          1470 non-null   int64\n",
      " 2   DistanceFromHome                   1470 non-null   int64\n",
      " 3   Education                          1470 non-null   int64\n",
      " 4   EmployeeNumber                     1470 non-null   int64\n",
      " 5   EnvironmentSatisfaction            1470 non-null   int64\n",
      " 6   HourlyRate                         1470 non-null   int64\n",
      " 7   JobInvolvement                     1470 non-null   int64\n",
      " 8   JobLevel                           1470 non-null   int64\n",
      " 9   JobSatisfaction                    1470 non-null   int64\n",
      " 10  MonthlyIncome                      1470 non-null   int64\n",
      " 11  MonthlyRate                        1470 non-null   int64\n",
      " 12  NumCompaniesWorked                 1470 non-null   int64\n",
      " 13  PercentSalaryHike                  1470 non-null   int64\n",
      " 14  PerformanceRating                  1470 non-null   int64\n",
      " 15  RelationshipSatisfaction           1470 non-null   int64\n",
      " 16  StockOptionLevel                   1470 non-null   int64\n",
      " 17  TotalWorkingYears                  1470 non-null   int64\n",
      " 18  TrainingTimesLastYear              1470 non-null   int64\n",
      " 19  WorkLifeBalance                    1470 non-null   int64\n",
      " 20  YearsAtCompany                     1470 non-null   int64\n",
      " 21  YearsInCurrentRole                 1470 non-null   int64\n",
      " 22  YearsSinceLastPromotion            1470 non-null   int64\n",
      " 23  YearsWithCurrManager               1470 non-null   int64\n",
      " 24  BusinessTravel_encoded             1470 non-null   int64\n",
      " 25  Attrition_encoded                  1470 non-null   int64\n",
      " 26  OverTime_encoded                   1470 non-null   int64\n",
      " 27  Gender_encoded                     1470 non-null   int64\n",
      " 28  Department_Human Resources         1470 non-null   int64\n",
      " 29  Department_Research & Development  1470 non-null   int64\n",
      " 30  Department_Sales                   1470 non-null   int64\n",
      " 31  EducationField_Human Resources     1470 non-null   int64\n",
      " 32  EducationField_Life Sciences       1470 non-null   int64\n",
      " 33  EducationField_Marketing           1470 non-null   int64\n",
      " 34  EducationField_Medical             1470 non-null   int64\n",
      " 35  EducationField_Other               1470 non-null   int64\n",
      " 36  EducationField_Technical Degree    1470 non-null   int64\n",
      " 37  MaritalStatus_Divorced             1470 non-null   int64\n",
      " 38  MaritalStatus_Married              1470 non-null   int64\n",
      " 39  MaritalStatus_Single               1470 non-null   int64\n",
      " 40  JobRole_Healthcare Representative  1470 non-null   int64\n",
      " 41  JobRole_Human Resources            1470 non-null   int64\n",
      " 42  JobRole_Laboratory Technician      1470 non-null   int64\n",
      " 43  JobRole_Manager                    1470 non-null   int64\n",
      " 44  JobRole_Manufacturing Director     1470 non-null   int64\n",
      " 45  JobRole_Research Director          1470 non-null   int64\n",
      " 46  JobRole_Research Scientist         1470 non-null   int64\n",
      " 47  JobRole_Sales Executive            1470 non-null   int64\n",
      " 48  JobRole_Sales Representative       1470 non-null   int64\n",
      " 49  Age_Bucket                         1470 non-null   int64\n",
      " 50  TotalWorkingYears_Bucket           1470 non-null   int64\n",
      " 51  YearsAtCompany_Bucket              1470 non-null   int64\n",
      " 52  YearsInCurrentRole_Bucket          1470 non-null   int64\n",
      " 53  DailyRate_Bucket                   1470 non-null   int64\n",
      " 54  HourlyRate_Bucket                  1470 non-null   int64\n",
      " 55  MonthlyIncome_Bucket               1470 non-null   int64\n",
      " 56  MonthlyRate_Bucket                 1470 non-null   int64\n",
      " 57  PercentSalaryHike_Bucket           1470 non-null   int64\n",
      "dtypes: int64(58)\n",
      "memory usage: 666.2 KB\n"
     ]
    }
   ],
   "source": [
    "# Overview of the data\n",
    "model_att_df.info()"
   ]
  },
  {
   "cell_type": "code",
   "execution_count": 4,
   "id": "0bb61c57",
   "metadata": {},
   "outputs": [],
   "source": [
    "#Data Prepping for Modelling\n",
    "# Separate features (X) and target variable (y)\n",
    "X = model_att_df.drop(columns=['Attrition_encoded', 'EmployeeNumber'])\n",
    "y = model_att_df['Attrition_encoded']"
   ]
  },
  {
   "cell_type": "code",
   "execution_count": 5,
   "id": "10692992",
   "metadata": {},
   "outputs": [],
   "source": [
    "# Train-test split\n",
    "X_train, X_test, y_train, y_test = train_test_split(X, y, test_size=0.3, random_state=42)"
   ]
  },
  {
   "cell_type": "code",
   "execution_count": 6,
   "id": "17258c46",
   "metadata": {},
   "outputs": [
    {
     "name": "stdout",
     "output_type": "stream",
     "text": [
      "              precision    recall  f1-score   support\n",
      "\n",
      "           0       0.92      0.93      0.93       380\n",
      "           1       0.53      0.51      0.52        61\n",
      "\n",
      "    accuracy                           0.87       441\n",
      "   macro avg       0.73      0.72      0.72       441\n",
      "weighted avg       0.87      0.87      0.87       441\n",
      "\n"
     ]
    }
   ],
   "source": [
    "# Initialize XGBoost classifier\n",
    "xgb_model = xgb.XGBClassifier(eval_metric='logloss', learning_rate=0.1, max_depth=3, n_estimators=100,\n",
    "                              scale_pos_weight=3.1, random_state=42)\n",
    "\n",
    "# Fit the model on the resampled, scaled training data\n",
    "xgb_model.fit(X_train, y_train)\n",
    "\n",
    "# Predict on the scaled test data\n",
    "y_pred = xgb_model.predict(X_test)\n",
    "\n",
    "# Print the classification report\n",
    "print(classification_report(y_test, y_pred))"
   ]
  },
  {
   "cell_type": "code",
   "execution_count": 74,
   "id": "7a7df2e5",
   "metadata": {},
   "outputs": [],
   "source": [
    "# Predict for the full dataset\n",
    "y_full_pred = xgb_model.predict(X)\n",
    "\n",
    "# Create a new DataFrame with EmployeeNumber and predicted attrition\n",
    "output_df = pd.DataFrame({\n",
    "    'EmployeeNumber': model_att_df['EmployeeNumber'],\n",
    "    'Actual_Attrition': model_att_df['Attrition_encoded'],\n",
    "    'Predicted_Attrition': y_full_pred\n",
    "})"
   ]
  },
  {
   "cell_type": "code",
   "execution_count": 84,
   "id": "26bf178d",
   "metadata": {},
   "outputs": [],
   "source": [
    "export_filepath = 'C:/Users/Ricky/Desktop/Data Analyst Course/Attrition Project/Pred_Data_HR-Employee-Attrition.csv'\n",
    "output_df.to_csv(export_filepath, index=False)"
   ]
  },
  {
   "cell_type": "code",
   "execution_count": null,
   "id": "9b51672f",
   "metadata": {},
   "outputs": [],
   "source": []
  },
  {
   "cell_type": "code",
   "execution_count": 17,
   "id": "932a14b2",
   "metadata": {},
   "outputs": [
    {
     "name": "stdout",
     "output_type": "stream",
     "text": [
      "ROC-AUC Score: 0.7917\n",
      "AUCPR: 0.5007\n",
      "Average Precision Score: 0.5045\n"
     ]
    },
    {
     "data": {
      "image/png": "[encoded data removed]",
      "text/plain": [
       "<Figure size 640x480 with 1 Axes>"
      ]
     },
     "metadata": {},
     "output_type": "display_data"
    }
   ],
   "source": [
    "# Predict probabilities on the test data\n",
    "y_pred_proba = xgb_model.predict_proba(X_test)[:, 1]  # Get the probabilities for the positive class (1)\n",
    "\n",
    "# Calculate the ROC-AUC score\n",
    "roc_auc = roc_auc_score(y_test, y_pred_proba)\n",
    "\n",
    "# Print the ROC-AUC score\n",
    "print(f\"ROC-AUC Score: {roc_auc:.4f}\")\n",
    "\n",
    "# Predict the probabilities on the test data (needed for AUCPR)\n",
    "y_proba = xgb_model.predict_proba(X_test)[:, 1]  # Probability estimates for the positive class\n",
    "\n",
    "# Calculate precision, recall, and thresholds for the PR curve\n",
    "precision, recall, _ = precision_recall_curve(y_test, y_proba)\n",
    "\n",
    "# Calculate AUCPR (Area Under the Precision-Recall Curve)\n",
    "aucpr = auc(recall, precision)\n",
    "\n",
    "# You can also use average_precision_score as an alternative to auc(recall, precision)\n",
    "avg_precision = average_precision_score(y_test, y_proba)\n",
    "\n",
    "# Print AUCPR score\n",
    "print(f\"AUCPR: {aucpr:.4f}\")\n",
    "print(f\"Average Precision Score: {avg_precision:.4f}\")\n",
    "\n",
    "# Optionally, plot the precision-recall curve\n",
    "plt.plot(recall, precision, marker='.', label='XGBoost (AUCPR: {:.4f})'.format(aucpr))\n",
    "plt.xlabel('Recall')\n",
    "plt.ylabel('Precision')\n",
    "plt.title('Precision-Recall Curve')\n",
    "plt.legend()\n",
    "plt.show()"
   ]
  },
  {
   "cell_type": "code",
   "execution_count": null,
   "id": "80a42f7c",
   "metadata": {},
   "outputs": [],
   "source": []
  }
 ],
 "metadata": {
  "kernelspec": {
   "display_name": "Python 3 (ipykernel)",
   "language": "python",
   "name": "python3"
  },
  "language_info": {
   "codemirror_mode": {
    "name": "ipython",
    "version": 3
   },
   "file_extension": ".py",
   "mimetype": "text/x-python",
   "name": "python",
   "nbconvert_exporter": "python",
   "pygments_lexer": "ipython3",
   "version": "3.10.9"
  }
 },
 "nbformat": 4,
 "nbformat_minor": 5
}
